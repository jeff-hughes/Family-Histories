{
 "cells": [
  {
   "cell_type": "code",
   "execution_count": 1,
   "metadata": {
    "collapsed": true
   },
   "outputs": [],
   "source": [
    "# code adapted from: https://pythontips.com/2016/02/25/ocr-on-pdf-files-using-python/\n",
    "\n",
    "from wand.image import Image\n",
    "from PIL import Image as PI  # import as PI to avoid name conflicts\n",
    "\n",
    "import pyocr\n",
    "import pyocr.builders\n",
    "\n",
    "import io\n",
    "import os"
   ]
  },
  {
   "cell_type": "code",
   "execution_count": 2,
   "metadata": {
    "collapsed": true
   },
   "outputs": [],
   "source": [
    "tool = pyocr.get_available_tools()[0]\n",
    "lang = tool.get_available_languages()[0]  # eng"
   ]
  },
  {
   "cell_type": "code",
   "execution_count": 3,
   "metadata": {},
   "outputs": [],
   "source": [
    "def convert_file(filename):\n",
    "    req_image = []  # list to store image of each page in\n",
    "    final_text = []  # list to store OCR converted text\n",
    "\n",
    "    # pyocr needs image files to work, so we need to convert PDFs to images first\n",
    "    image_pdf = Image(filename=filename, resolution=300)\n",
    "    image_jpeg = image_pdf.convert('jpeg')  # this creates a sequence of jpegs, one per page\n",
    "    \n",
    "    for img in image_jpeg.sequence:\n",
    "        img_page = Image(image=img)\n",
    "        req_image.append(img_page.make_blob('jpeg'))\n",
    "    \n",
    "    for img in req_image: \n",
    "        txt = tool.image_to_string(\n",
    "            PI.open(io.BytesIO(img)),\n",
    "            lang=lang,\n",
    "            builder=pyocr.builders.TextBuilder()\n",
    "        )\n",
    "        final_text.append(txt)\n",
    "    \n",
    "    return final_text"
   ]
  },
  {
   "cell_type": "code",
   "execution_count": 4,
   "metadata": {},
   "outputs": [
    {
     "data": {
      "text/plain": [
       "['Porter - 1.pdf',\n",
       " 'Porter - 2.pdf',\n",
       " 'Porter - 3.pdf',\n",
       " 'Porter - 4.pdf',\n",
       " 'Porter - 5.pdf']"
      ]
     },
     "execution_count": 4,
     "metadata": {},
     "output_type": "execute_result"
    }
   ],
   "source": [
    "mypath = 'Porter'\n",
    "porterfiles = [f for f in os.listdir(mypath) if os.path.isfile(os.path.join(mypath, f))]\n",
    "porterfiles"
   ]
  },
  {
   "cell_type": "code",
   "execution_count": 5,
   "metadata": {},
   "outputs": [],
   "source": [
    "for file in porterfiles:\n",
    "    infile = mypath + '/' + file\n",
    "    \n",
    "    file_name, file_ext = os.path.splitext(file)\n",
    "    outfile = mypath + '/' + file_name + '.txt'\n",
    "    \n",
    "    outtext = convert_file(infile)\n",
    "    with open(outfile, 'w') as f:\n",
    "        for item in outtext:\n",
    "            f.write(\"%s\\n\\n\" % item.encode(\"ascii\", errors=\"ignore\").decode())"
   ]
  },
  {
   "cell_type": "code",
   "execution_count": 6,
   "metadata": {},
   "outputs": [
    {
     "data": {
      "text/plain": [
       "['1 (p. 1-9).pdf',\n",
       " '10 (back pg).pdf',\n",
       " '11 (p. 41-45).pdf',\n",
       " '12 (p. 46-50).pdf',\n",
       " '13 (extra pg).pdf',\n",
       " '2 (3 back pg).pdf',\n",
       " '3 (p. 10-16+).pdf',\n",
       " '4 (back pg).pdf',\n",
       " '5 (p. 17-22).pdf',\n",
       " '6 (back pg).pdf',\n",
       " '7 (p. 23-31).pdf',\n",
       " '8 (back pg).pdf',\n",
       " '9 (p. 32-40).pdf',\n",
       " 'Gravestone of Susannah Hughes - Meaford Cemetery.pdf',\n",
       " 'Hughes Coat of Arms.pdf',\n",
       " 'Hughes History (by Minnie Hegadorn).pdf',\n",
       " 'Mortgage burning.pdf',\n",
       " 'Obituary - Uncle Jack Hughes.pdf',\n",
       " 'Robert Pettapiece.pdf']"
      ]
     },
     "execution_count": 6,
     "metadata": {},
     "output_type": "execute_result"
    }
   ],
   "source": [
    "mypath = 'Hughes'\n",
    "hughesfiles = [f for f in os.listdir(mypath) if os.path.isfile(os.path.join(mypath, f))]\n",
    "hughesfiles"
   ]
  },
  {
   "cell_type": "code",
   "execution_count": 7,
   "metadata": {},
   "outputs": [
    {
     "data": {
      "text/plain": [
       "['1 (p. 1-9).pdf',\n",
       " '10 (back pg).pdf',\n",
       " '11 (p. 41-45).pdf',\n",
       " '12 (p. 46-50).pdf',\n",
       " '13 (extra pg).pdf',\n",
       " '2 (3 back pg).pdf',\n",
       " '3 (p. 10-16+).pdf',\n",
       " '4 (back pg).pdf',\n",
       " '5 (p. 17-22).pdf',\n",
       " '6 (back pg).pdf',\n",
       " '7 (p. 23-31).pdf',\n",
       " '8 (back pg).pdf',\n",
       " '9 (p. 32-40).pdf',\n",
       " 'Hughes History (by Minnie Hegadorn).pdf']"
      ]
     },
     "execution_count": 7,
     "metadata": {},
     "output_type": "execute_result"
    }
   ],
   "source": [
    "todelete = [18, 17, 16, 14, 13]\n",
    "\n",
    "for i in todelete:\n",
    "    del hughesfiles[i]\n",
    "\n",
    "hughesfiles"
   ]
  },
  {
   "cell_type": "code",
   "execution_count": 8,
   "metadata": {
    "collapsed": true
   },
   "outputs": [],
   "source": [
    "for file in hughesfiles:\n",
    "    infile = mypath + '/' + file\n",
    "    \n",
    "    file_name, file_ext = os.path.splitext(file)\n",
    "    outfile = mypath + '/' + file_name + '.txt'\n",
    "    \n",
    "    outtext = convert_file(infile)\n",
    "    with open(outfile, 'w') as f:\n",
    "        for item in outtext:\n",
    "            f.write(\"%s\\n\\n\" % item.encode(\"ascii\", errors=\"ignore\").decode())"
   ]
  }
 ],
 "metadata": {
  "kernelspec": {
   "display_name": "Python 3",
   "language": "python",
   "name": "python3"
  },
  "language_info": {
   "codemirror_mode": {
    "name": "ipython",
    "version": 3
   },
   "file_extension": ".py",
   "mimetype": "text/x-python",
   "name": "python",
   "nbconvert_exporter": "python",
   "pygments_lexer": "ipython3",
   "version": "3.6.1"
  }
 },
 "nbformat": 4,
 "nbformat_minor": 2
}
